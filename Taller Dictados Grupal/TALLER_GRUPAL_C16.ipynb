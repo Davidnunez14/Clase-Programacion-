{
  "nbformat": 4,
  "nbformat_minor": 0,
  "metadata": {
    "colab": {
      "provenance": [],
      "collapsed_sections": []
    },
    "kernelspec": {
      "name": "python3",
      "display_name": "Python 3"
    },
    "language_info": {
      "name": "python"
    }
  },
  "cells": [
    {
      "cell_type": "markdown",
      "source": [
        "**TALLER 3 : DICTABOS-C16**\n",
        "\n",
        "\n",
        "---\n",
        "\n",
        "**PARTICIPANTES:**\n",
        "\n",
        "---\n",
        "\n",
        "1. JUAN PABLO QUINTERO\n",
        "2. MATEO VALDERRAMA CABRERA\n",
        "3. JULIAN STIVEN VIRGUEZ PATIÑO\n",
        "4. DAVID NUÑEZ MEJIA\n",
        "5. MONICA CONSTANZA CRUZ PARRA\n",
        "6. DIEGO LEANDRO LUNA CUBILLOS\n",
        "\n",
        "**GRUPO: 4**\n",
        "\n",
        "---\n",
        "\n",
        "**DOCENTE:**\n",
        "\n",
        "1.1 DIEGO CAMILO TALERO OSORIO\n",
        "\n",
        "---\n",
        "\n",
        "\n",
        "**PROGRAMACION DE COMPUTADORES/ GR 14.**\n"
      ],
      "metadata": {
        "id": "87lYgZygol7B"
      }
    },
    {
      "cell_type": "markdown",
      "source": [
        "**EJERCICIO 1:**\n",
        "1. Escribir un programa que pregunte al usuario su nombre, edad, dirección y teléfono, guarde la información en un diccionario.\n",
        " Después debe mostrar por pantalla el mensaje:\n",
        "<nombre> tiene <edad> años, vive en <dirección> y su número de teléfono es <teléfono>.\n",
        "\n",
        "\n",
        "---\n",
        "\n"
      ],
      "metadata": {
        "id": "fduLn0j1oyUT"
      }
    },
    {
      "cell_type": "code",
      "source": [
        "nombre=input(\"Ingrese su nombre:\")# Se crea un input tipo txt que pida al usuario su nombre.\n",
        "edad=int(input(\"Edad:\"))#Se crea un input+ int tipo txt+entero que pida al usuario el valor numerico que corresponde a su edad.\n",
        "direccion=input(\"direccion:\")#Se crea un input+ int tipo txt+entero que pida al usuario la direccion de su residencia.\n",
        "telefono=int(input(\"telefono:\"))#Finalmente se crea un input+ int tipo txt+entero que pida al usuario el valor numerico que corresponde a su telefono.\n",
        "\n",
        "usuario={\"nombre1\":nombre,\"edad1\":edad,\"direccion1\":direccion,\"telefono1\":telefono}# Definidos los input se crea un dictabo lineal tipo lista que ejecute en secuencia todos los inputs creados anteriormente.  \n",
        "\n",
        "print(\"Su nombre es\",usuario[\"nombre1\"],\",Su edad es\",usuario[\"edad1\"],\"años\",\" y usted reside en\",usuario[\"direccion1\"],\"y su numero de telefono es:\",usuario[\"telefono1\"])# Finalmente se imprime el resultado de los valores ingresados por el usuario en una lista que unifica todos en un solo renglon tipo txt."
      ],
      "metadata": {
        "id": "A8zEx-Oso8pk",
        "colab": {
          "base_uri": "https://localhost:8080/"
        },
        "outputId": "55c363e0-ac17-4319-97f4-d2c7ada60b26"
      },
      "execution_count": null,
      "outputs": [
        {
          "output_type": "stream",
          "name": "stdout",
          "text": [
            "Ingrese su nombre:Juan Pablo\n",
            "Edad:22\n",
            "direccion: En la jimenez pa bajo\n",
            "telefono:3202778790\n",
            "Su nombre es Juan Pablo ,Su edad es 22 años  y usted reside en  En la jimenez pa bajo y su numero de telefono es: 3202778790\n"
          ]
        }
      ]
    },
    {
      "cell_type": "markdown",
      "source": [
        "**EJERCICIO 2:**\n",
        "2. Escribir un programa que pregunte una fecha actual y fecha de nacimiento ‘dd/mm/aaaa’ y muestre por pantalla la misma fecha en formato “dia/mes/aaaa” y sus días de vida son <####>,no tenga en cuenta años bisiestos.\n",
        "\n",
        "\n",
        "---\n",
        "\n",
        "\n",
        "**RECOMENDACIONES:**\n",
        "\n",
        "\n",
        "---\n",
        "\n",
        "https://www.programiz.com/python-programming/time#:~:text=time(),the%20point%20where%20time%20begins).\n",
        "de usar la librería time, el algoritmo ya no requiere solicitar la fecha actual.\n"
      ],
      "metadata": {
        "id": "U4R0bFkTo_ZS"
      }
    },
    {
      "cell_type": "code",
      "source": [
        "from datetime import date# Se importa una biblioteca tipo timedate similar a (time) pero esta derivada de la misma pero en coordenadas ISO.\n",
        "\n",
        "dia=int(input('ingrese el dia de nacimiento: '))#Se crea un input tipo txt+entero que pida al su dia de nacimiento.\n",
        "mes=int(input('ingrese el mes de nacimiento: '))#Se crea un input tipo txt+entero que pida al su mes de nacimiento.\n",
        "año=int(input('ingrese el año de nacimiento:'))#Se crea un input tipo txt+entero que pida al su año de nacimiento.\n",
        "\n",
        "print('La fecha introducida es la siguiente: ', dia, '/',mes, '/', año)# Se crea un dictabo en donde se reune en un formato tipo ISO el dia el mes y el año.\n",
        "\n",
        "dia_hoy=int(input('Ingrese el dia de hoy: '))#Se crea un input tipo txt+entero que pida que dia es.\n",
        "mes_hoy=int(input('Ingrese el mes en que estamos: '))#Se crea un input tipo txt+entero que pida el mes en que estamos.\n",
        "año_hoy=int(input('Ingrese el año que trascurre:'))#Se crea un input tipo txt+entero que pida al usuario que año es.\n",
        "\n",
        "print('La fecha introducida es la siguiente: ', dia_hoy, '/',mes_hoy, '/', año_hoy)# Se imprime en un tipo dictabo similar al primero el dia, mes y año en formato ISO.\n",
        "\n",
        "fecha_usuario= date(año, mes, dia)# Posterior sse define en la funcion date la fecha que ingresa el usuario de su nacimiento.\n",
        "fecha_hoy= date(año_hoy, mes_hoy, dia_hoy)#Igual que el anterior laa funcion date define la fecha actual a la consulta del programa.\n",
        "edad= fecha_hoy - fecha_usuario# Finalmente definidos los dos dates se resta la fecha de nacimiento del usuario- la fecha actual dandonos como resultado sus dias de existencia.\n",
        "\n",
        "print('Sus dias de vida son', edad)# Ya finalmente se declara en una impresion los dias de vida que tiene el usuario segun los valores que ingreso.\n"
      ],
      "metadata": {
        "id": "yeaz0vmn13jC"
      },
      "execution_count": null,
      "outputs": []
    },
    {
      "cell_type": "markdown",
      "source": [
        "**EJERCICIO 3:**\n",
        "\n",
        "---\n",
        "3. Escribir un programa que administre un dictado de dictados, {1:{},2:{},,,,,,,#:{}}.\n",
        "Debe preguntar a cada usuario(cantidad indefinida), tres datos (los que definan), y a partir de estos, crear un dictado por usuario.\n",
        "El dictado de cada usuario, será de esta manera:\n",
        "La clave será un entero respectivo al orden en que el usuario ingresa los datos.\n",
        "El valor será un dictado con los tres datos del usuario elegidos.\n",
        "{‘dato1’:857,‘dato2’:True,‘dato3’:’dffd’}\n",
        "Ejemplo dictado general:\n",
        "{0:{‘dato1’:857,‘dato2’:True,‘dato3’:’dffd’},1:{‘dato1’:857,‘dato2’:True,‘dato3’:’dffd’}}\n",
        "\n",
        "---\n",
        "\n",
        "\n",
        "**RECOMENDACIONES:**\n",
        "Al final el programa imprimirá el primer(mínimo) usuario y el último(máximo) usuario con sus respectivos datos.\n",
        "\n"
      ],
      "metadata": {
        "id": "C5iz6ghopWLP"
      }
    },
    {
      "cell_type": "code",
      "source": [
        "a={} #se define una variable que funcionara como almacenara los valores de la segunda variable\n",
        "b={} #se crea otra variable la cual se almacenaran los valores introducidos \n",
        "c=0 #se crea una tercer variable para que funcione como un contador\n",
        "X=True #se crea un buleano que abarque todo el codigo\n",
        "while X: #se crea un bucle \n",
        "  nom=str(input('Coloca tu nombre: ')) #se crea una variable con la cual pueda interactuar el operador \n",
        "  fru=str(input('Coloca tu fruta favorita: ')) #se crea una variable con la cual pueda interactuar el operador\n",
        "  ed=int(input('Cual es tu edad: ')) #se crea una variable con la cual pueda interactuar el operador\n",
        "  b['NOMBRE: ']=nom; b['FRUTA FAVORITA: ']=fru; b['EDAD: ']=ed #se hace la relacion entre las variable 'b' de alamacenamiento y las de interactuaccion con el operador \n",
        "  a[c]=b #se hace una referenciacion y comparacion para que se vayan agregando los valores con su respectiva clave\n",
        "  b={} #se coloca para que no se presenten problemas a la hora de imprimiel el minimo y el maximo\n",
        "  c+=1 #se le suma al contado una unidad para que cada vez que se repita el bucle se vaya almacenando como informacion nueva\n",
        "  r=min(a) #se haya el primer dato que se ha guardado\n",
        "  s=max(a) #se haya el ultimo dato que se ha guardado\n",
        "  y=int(input('Selecciona 1 para continuar, Selecciona 0 para terminar: ')) # se crea una variable con la cual interactuara el operador y decidira si seguir introduciendo datos o parar\n",
        "  if y!=1 and y!=0: #se crea una condicion con la cual avarque a los valores diferentes de '1' y de '0'  \n",
        "    print('El valor ingresado es erroneo') #si se introduce un numero diferente a los estableidos saldra un error\n",
        "    y=int(input('Selecciona 1 para continuar, Selecciona 0 para terminar: ')) #tras salir el error se le pedira que vuelva a introducir cualquiera de los dos valores establecidos\n",
        "  else: #dirijira a la otra condicion\n",
        "    if y==0: #se crea una segunda condicion donde  la variable se compare con '0'\n",
        "      X=False #si se activa la anterior condicion se detendra eel bucle y procedera a realizar las impresiones\n",
        "print(a) #se imprimen todos os valores anteriormente guardados es el dictado\n",
        "print('El primer usuario es:', a.get(r)) #se imprime el primer dato que fue guardado\n",
        "print('El ultimo usuario es: ', a.get(s)) #se imprime ell ultimo dato quee fue guardado"
      ],
      "metadata": {
        "id": "HGCtW2Njpu46",
        "colab": {
          "base_uri": "https://localhost:8080/"
        },
        "outputId": "0f6be47d-546d-41e2-8078-e4d257bd1be9"
      },
      "execution_count": null,
      "outputs": [
        {
          "output_type": "stream",
          "name": "stdout",
          "text": [
            "Coloca tu nombre: Mateo\n",
            "Coloca tu fruta favorita: Manzana\n",
            "Cual es tu edad: 18\n",
            "Selecciona 1 para continuar, Selecciona 0 para terminar: 1\n",
            "Coloca tu nombre: Alberto\n",
            "Coloca tu fruta favorita: Pera\n",
            "Cual es tu edad: 22\n",
            "Selecciona 1 para continuar, Selecciona 0 para terminar: 0\n",
            "{0: {'NOMBRE: ': 'Mateo', 'FRUTA FAVORITA: ': 'Manzana', 'EDAD: ': 18}, 1: {'NOMBRE: ': 'Alberto', 'FRUTA FAVORITA: ': 'Pera', 'EDAD: ': 22}}\n",
            "El primer usuario es: {'NOMBRE: ': 'Mateo', 'FRUTA FAVORITA: ': 'Manzana', 'EDAD: ': 18}\n",
            "El ultimo usuario es:  {'NOMBRE: ': 'Alberto', 'FRUTA FAVORITA: ': 'Pera', 'EDAD: ': 22}\n"
          ]
        }
      ]
    }
  ]
}